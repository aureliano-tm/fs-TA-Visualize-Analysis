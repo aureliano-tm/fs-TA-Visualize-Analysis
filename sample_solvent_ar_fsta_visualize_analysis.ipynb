{
 "cells": [
  {
   "cell_type": "markdown",
   "metadata": {},
   "source": [
    "## Import Library and Acquire Work Directory"
   ]
  },
  {
   "cell_type": "code",
   "execution_count": null,
   "metadata": {},
   "outputs": [],
   "source": [
    "# system library\n",
    "import os\n",
    "import glob\n",
    "import shutil\n",
    "from importlib import reload\n",
    "\n",
    "# 3rd party library\n",
    "import numpy as np\n",
    "import pandas as pd\n",
    "import lmfit\n",
    "import KiMoPack.plot_func as pf\n",
    "import plotly.graph_objects as go\n",
    "from plotly.subplots import make_subplots\n",
    "import matplotlib.pyplot as plt\n",
    "\n",
    "# user library\n",
    "import min_function as mf\n",
    "import min_instrument as mins\n",
    "import min_math as mm\n",
    "import min_plot as mp\n",
    "\n",
    "# acquire current work directory\n",
    "cwd = os.getcwd()\n",
    "print(f\"\\nCurrent Work Directory:\\n{cwd}\")\n",
    "\n",
    "# acquire filename from current work directory\n",
    "fn = os.path.basename(cwd)\n",
    "fn = fn.split(\"_\")\n",
    "fn = \"_\".join(fn[0:2])\n",
    "print(f\"\\nFilename:\\n{fn}\")\n",
    "\n",
    "# remove the folders\n",
    "# shutil.rmtree(\"Scans\")\n",
    "# shutil.rmtree(\"result_figures\")\n",
    "# shutil.rmtree(\"p2\")\n",
    "# shutil.rmtree(\"g2\")\n",
    "# shutil.rmtree(\"t2\")"
   ]
  },
  {
   "cell_type": "markdown",
   "metadata": {},
   "source": [
    "# Preprocess"
   ]
  },
  {
   "cell_type": "code",
   "execution_count": null,
   "metadata": {},
   "outputs": [],
   "source": [
    "# acquire the filepath of each scan\n",
    "fps_scan = glob.glob(f\"{cwd}/*/*.GUI.csv\")\n",
    "fps_scan.sort()\n",
    "print(f\"\\n{len(fps_scan)} scans were found:\")\n",
    "for fp_scan in fps_scan:\n",
    "    print(os.path.basename(fp_scan))\n",
    "\n",
    "# create the Scans folder for storing the processed data\n",
    "os.makedirs(f\"{cwd}/Scans\", exist_ok=True)"
   ]
  },
  {
   "cell_type": "markdown",
   "metadata": {},
   "source": [
    "## Process Each Scan"
   ]
  },
  {
   "cell_type": "code",
   "execution_count": null,
   "metadata": {},
   "outputs": [],
   "source": [
    "# create the ls_scan list for storing the processed dataframe\n",
    "ls_scan = []\n",
    "# fps_scan = fps_scan[0:1]  # for testing, only process the first scan\n",
    "for fp_scan in fps_scan:\n",
    "    print(f\"\\nCurrent scan:\\n{os.path.basename(fp_scan)}\")\n",
    "\n",
    "    # modify the filename\n",
    "    (dir_scan, fn_scan) = os.path.split(fp_scan)\n",
    "    fn_scan = os.path.basename(fp_scan)\n",
    "    fn_scan = fn_scan.split(\".\")\n",
    "    scan_count = ((fn_scan[1].split(\"_\"))[-1]).lower()\n",
    "    fn_scan = fn_scan[0] + \"_\" + scan_count\n",
    "    # fn_scan = fn_scan.replace(\"uvpr\", \"caf2\")  # adjust this line for proper filename\n",
    "    print(f\"\\nModified Filename:\\n{fn_scan}\")\n",
    "\n",
    "    # import raw data in mOD\n",
    "    scan_df = pd.read_csv(fp_scan, header=0, index_col=0, na_values=\"NaN\", sep=\",\")\n",
    "    scan_df = scan_df * 1000  # convert OD to mOD\n",
    "    scan_df.columns = [float(i) for i in scan_df.columns]\n",
    "    print(\n",
    "        f\"\\nRaw fs-TA data, \\033[1m{len(np.where(scan_df.isna())[0])} NaN point\\033[0m:\"\n",
    "    )\n",
    "    # display(scan_df)\n",
    "    mp.display_fsta_heatmap(scan_df).show()\n",
    "    mins.writeSXUfs(\n",
    "        scan_df,\n",
    "        f\"Scans/{fn_scan}_raw.ufs\",\n",
    "    )\n",
    "\n",
    "    # crop the data to the wl_range\n",
    "    wl_range = [330, 750]\n",
    "    tailored_scan_df = mins.tailor_fsta(scan_df, wl_range)\n",
    "    tailored_scan_df = scan_df.loc[\n",
    "        (scan_df.index >= wl_range[0]) & (scan_df.index <= wl_range[1])\n",
    "    ]\n",
    "    print(\n",
    "        f\"\\nTailored raw fs-TA data, \\033[1m{len(np.where(tailored_scan_df.isna())[0])} NaN points\\033[0m:\"\n",
    "    )\n",
    "    # display(tailored_scan_df)\n",
    "    # mp.display_fsta_heatmap(tailored_scan_df).show()\n",
    "    mins.writeSXUfs(\n",
    "        tailored_scan_df,\n",
    "        f\"Scans/{fn_scan}_{wl_range[0]}{wl_range[1]}.ufs\",\n",
    "    )\n",
    "\n",
    "    # repair NaN points\n",
    "    rpnan_tailored_scan_df = tailored_scan_df.interpolate(\n",
    "        method=\"linear\", limit_direction=\"both\", axis=0\n",
    "    )  # https://pandas.pydata.org/pandas-docs/stable/reference/api/pandas.DataFrame.interpolate.html\n",
    "    print(\n",
    "        f\"Repaired tailored raw fs-TA data, \\033[1m{len(np.where(rpnan_tailored_scan_df.isna())[0])} NaN point\\033[0m:\"\n",
    "    )\n",
    "    # display(rpnan_tailored_scan_df)\n",
    "    # mp.display_fsta_heatmap(rpnan_tailored_scan_df).show()\n",
    "    mins.writeSXUfs(\n",
    "        rpnan_tailored_scan_df,\n",
    "        f\"Scans/{fn_scan}_{wl_range[0]}{wl_range[1]}_rpnan.ufs\",\n",
    "    )\n",
    "\n",
    "    # store each scan in ls_scan\n",
    "    ls_scan.append(rpnan_tailored_scan_df)"
   ]
  },
  {
   "cell_type": "markdown",
   "metadata": {},
   "source": [
    "## Compare Each Scan\n"
   ]
  },
  {
   "cell_type": "code",
   "execution_count": null,
   "metadata": {},
   "outputs": [],
   "source": [
    "ref_scan_num = 0\n",
    "for i in range(1, len(ls_scan)):\n",
    "    scan_diff = mins.compare_scan_fsta(ls_scan[ref_scan_num], ls_scan[i])\n",
    "    mp.display_fsta_heatmap(scan_diff, zlimit=[-2, 2, 0.1]).show()\n",
    "    mins.writeSXUfs(\n",
    "        scan_diff,\n",
    "        f\"Scans/{fn}_diff{i}{ref_scan_num}.ufs\",\n",
    "    )"
   ]
  },
  {
   "cell_type": "markdown",
   "metadata": {},
   "source": [
    "## Reaverage Data"
   ]
  },
  {
   "cell_type": "code",
   "execution_count": null,
   "metadata": {},
   "outputs": [],
   "source": [
    "average_fsta = mins.reaverage_fsta(ls_scan[:3])\n",
    "# display(average_fsta)\n",
    "mp.display_fsta_heatmap(average_fsta).show()\n",
    "mins.writeSXUfs(\n",
    "    average_fsta,\n",
    "    f\"Scans/{fn}_rna_rav.ufs\",\n",
    ")"
   ]
  },
  {
   "cell_type": "markdown",
   "metadata": {},
   "source": [
    "## Subtract Background"
   ]
  },
  {
   "cell_type": "code",
   "execution_count": null,
   "metadata": {},
   "outputs": [],
   "source": [
    "sub_bg_fsta = mins.subtract_background_fsta(average_fsta, [-100, -2])\n",
    "# display(sub_bg_fsta)\n",
    "mp.display_fsta_heatmap(sub_bg_fsta).show()\n",
    "mins.writeSXUfs(\n",
    "    sub_bg_fsta,\n",
    "    f\"Scans/{fn}_rna_rav_sbg.ufs\",\n",
    ")"
   ]
  },
  {
   "cell_type": "markdown",
   "metadata": {},
   "source": [
    "# Visualize\n"
   ]
  },
  {
   "cell_type": "code",
   "execution_count": null,
   "metadata": {},
   "outputs": [],
   "source": [
    "sample = f\"Sample\"  # legend name shown in figure\n",
    "fp = glob.glob(f\"{cwd}/*.ufs\")[0]  # only one .ufs file in the current work directory\n",
    "data = mins.load_fsta(fp)\n",
    "\n",
    "data = data.iloc[:, 1:]  # remove the first column, usually contains NaN points\n",
    "nan = np.where(data.isna())  # check if there is NaN points\n",
    "display(nan)\n",
    "display(data)\n",
    "\n",
    "# acquire the maximum and minimum values for setting the mOD range\n",
    "globalmax = data.max().max()\n",
    "globalmin = data.min().min()\n",
    "localmax = mins.tailor_fsta(data, [355, 700], [0.3, 8000]).max().max()\n",
    "localmin = mins.tailor_fsta(data, [355, 700], [0.3, 8000]).min().min()\n",
    "print(\n",
    "    f\"globalmax: {globalmax}\\nglobalmin: {globalmin}\\nlocalmax: {localmax}\\nlocalmin: {localmin}\"\n",
    ")"
   ]
  },
  {
   "cell_type": "markdown",
   "metadata": {},
   "source": [
    "## 2D Map\n"
   ]
  },
  {
   "cell_type": "code",
   "execution_count": null,
   "metadata": {},
   "outputs": [],
   "source": [
    "# reload(mp)\n",
    "# mp.display_fsta_heatmap_linear(data).show()\n",
    "\n",
    "nm_limit = [[345, 650], 50, 10]  # set the wavelength range\n",
    "e3cm1_limit = [\n",
    "    [mf.e3cm1_to_nm(nm_limit[0][0]), mf.e3cm1_to_nm(nm_limit[0][1])],\n",
    "    2,\n",
    "    0.5,\n",
    "]  # convert to 10**3 wavenumber\n",
    "t_limit = [[-5, 100, 8000], 50, 10]  # set the time window\n",
    "od_limit = [[-localmax, localmax], 2, 1]  # set the mOD range\n",
    "\n",
    "contour_bwn_twl = mp.display_fsta_contourf_symlog_be3cm1_tnm(\n",
    "    df_fsta=data,\n",
    "    legendtitle=sample,\n",
    "    xlimit=e3cm1_limit,\n",
    "    xlimit2=nm_limit,\n",
    "    ylimit=t_limit,\n",
    "    zlimit=od_limit,\n",
    ")\n",
    "plt.show()"
   ]
  },
  {
   "cell_type": "markdown",
   "metadata": {},
   "source": [
    "## Spectra\n"
   ]
  },
  {
   "cell_type": "code",
   "execution_count": null,
   "metadata": {},
   "outputs": [],
   "source": [
    "# reload(mp)\n",
    "\n",
    "delaytime1 = [0.445, 75.3, 200, 457, 1500]  # set the delay time 1\n",
    "spectra1 = mins.extract_spectra_trspectra(data, delaytime1)\n",
    "# display(spectra1)\n",
    "fstas_bwn_twl = mp.display_fsta_spectra_be3cm1_tnm(\n",
    "    df_fstas_wl=spectra1,\n",
    "    legendtitle=sample,\n",
    "    xlimit=e3cm1_limit,\n",
    ")\n",
    "plt.show()\n",
    "\n",
    "delaytime2 = [1710, 3490, 7370]  # set the delay time 2\n",
    "spectra2 = mins.extract_spectra_trspectra(data, delaytime2)\n",
    "# display(spectra2)\n",
    "fstas_bwn_twl2 = mp.display_fsta_spectra_be3cm1_tnm(\n",
    "    df_fstas_wl=spectra2,\n",
    "    legendtitle=sample,\n",
    "    xlimit=e3cm1_limit,\n",
    ")\n",
    "plt.show()"
   ]
  },
  {
   "cell_type": "markdown",
   "metadata": {},
   "source": [
    "## Kinetics\n"
   ]
  },
  {
   "cell_type": "code",
   "execution_count": null,
   "metadata": {},
   "outputs": [],
   "source": [
    "# reload(mp)\n",
    "kinetics_t_limit = [[-100, 2000, 8000], 500, 100]\n",
    "kinetics_od_limit = [[-1, 12], 2, 1]\n",
    "\n",
    "wavelengths = [357, 472]  # set the wavelengths for extracting kinetics\n",
    "kinetics = mins.extract_2colkinetics_trspectra(data, wavelengths)\n",
    "# display(kinetics)\n",
    "# mp.preview_2coldf(kinetics)\n",
    "mp.display_fsta_2colkinetics_symlog(\n",
    "    kinetics,\n",
    "    legendtitle=sample,\n",
    "    xlimit=kinetics_t_limit,\n",
    "    ylimit=kinetics_od_limit,\n",
    "    legendposition=\"upper left\",\n",
    ")\n",
    "plt.show()"
   ]
  },
  {
   "cell_type": "markdown",
   "metadata": {},
   "source": [
    "#  Single Wavelength Fitting\n"
   ]
  },
  {
   "cell_type": "code",
   "execution_count": null,
   "metadata": {},
   "outputs": [],
   "source": [
    "func = \"GPdfConHDExp\"  # fitting function\n",
    "fits = []\n",
    "\n",
    "# set a loop for fitting kinetics at each wavelength\n",
    "# be aware that the initial parameters and bounds might not suit each wavelength\n",
    "for i in range(int(kinetics.shape[1] / 2)):\n",
    "    fit = mm.fit_fsta_2colkinetics(\n",
    "        data=kinetics.iloc[:, [2 * i, 2 * i + 1]],\n",
    "        func_name=func,\n",
    "        p0=[0, 0, 0.2, 5, 300, 3, 50000],\n",
    "        # bounds=(\n",
    "        #     [-0.00001, -2, -1, 0, 295, 0, 0],\n",
    "        #     [0.00001, 2, 1, np.inf, np.inf, np.inf, np.inf],\n",
    "        # ),\n",
    "        yaxistype=\"linear\",\n",
    "    )\n",
    "    fits.append(fit[0])\n",
    "\n",
    "# if the loop fitting doesn't work, try fitting each wavelength separately\n",
    "# fit1 = mm.fit_fsta_2colkinetics(\n",
    "#     data=kinetics.iloc[:, 0:2],\n",
    "#     func_name=func,\n",
    "#     p0=[0, 0, 0.2, 5, 300, 3, 50000],\n",
    "#     bounds=(\n",
    "#         [-0.00001, -2, -1, 0, 295, 0, 0],\n",
    "#         [0.00001, 2, 1, np.inf, np.inf, np.inf, np.inf],\n",
    "#     ),\n",
    "#     yaxistype=\"linear\",\n",
    "# )\n",
    "# fits.append(fit1[0])\n",
    "\n",
    "# fit2 = mm.fit_fsta_2colkinetics(\n",
    "#     data=kinetics.iloc[:, 2:],\n",
    "#     func_name=func,\n",
    "#     p0=[0, 0, 0.2, -3, 300, 12, 50000],\n",
    "#     bounds=(\n",
    "#         [-0.00001, -1, 0, -np.inf, 0, 0, 40000],\n",
    "#         [0.00001, 1, 1, 0, np.inf, np.inf, np.inf],\n",
    "#     ),\n",
    "#     yaxistype=\"linear\",\n",
    "# )\n",
    "# fits.append(fit2[0])"
   ]
  },
  {
   "cell_type": "code",
   "execution_count": null,
   "metadata": {},
   "outputs": [],
   "source": [
    "mp.display_fsta_1colkinetics_fitted_symlog(\n",
    "    fits,\n",
    "    xlimit=kinetics_t_limit,\n",
    "    ylimit=kinetics_od_limit,\n",
    "    legendtitle=sample,\n",
    "    legendposition=\"upper left\",\n",
    "    # showwn=True,\n",
    ")\n",
    "plt.show()"
   ]
  },
  {
   "cell_type": "markdown",
   "metadata": {},
   "source": [
    "# Global Analysis\n"
   ]
  },
  {
   "cell_type": "code",
   "execution_count": null,
   "metadata": {},
   "outputs": [],
   "source": [
    "# plt.close(\"all\")\n",
    "\n",
    "ta = pf.TA(filename=sample, ds=data.T, sep=\",\", transpose=False)\n",
    "# ta.lintresh = 100\n",
    "\n",
    "# spectra\n",
    "ta.wave_nm_bin = 1\n",
    "ta.rel_time = delaytime1 + delaytime2\n",
    "# ta.time_width_percent=0\n",
    "# ta.timelimits = [ylimit[0][0], ylimit[0][2]]\n",
    "ta.timelimits = [-100, 8000]\n",
    "# ta.ignore_time_region=[-0.5, 0.5]\n",
    "ta.bordercut = nm_limit[0]  # wavelength range\n",
    "\n",
    "# kinetics\n",
    "ta.wavelength_bin = 1\n",
    "ta.rel_wave = wavelengths\n",
    "# ta.scattercut=[300, 325]\n",
    "\n",
    "# DA\n",
    "ta.cmap = pf.cm.jet\n",
    "ta.intensity_range = od_limit[0]\n",
    "# ta.log_scale=False\n",
    "# display(ta.ds)\n",
    "\n",
    "# fit\n",
    "ta.error_matrix_amplification = 10\n",
    "ta.log_fit = False\n",
    "\n",
    "# plot\n",
    "# ta.log_scale=False\n",
    "ta.Plot_RAW(\n",
    "    plotting=[3],  # only ouput the result of SVD analysis\n",
    "    # scale_type=\"symlog\"\n",
    ")\n",
    "# ta.Plot_Interactive()"
   ]
  },
  {
   "cell_type": "markdown",
   "metadata": {},
   "source": [
    "## Parallel Model\n"
   ]
  },
  {
   "cell_type": "code",
   "execution_count": null,
   "metadata": {},
   "outputs": [],
   "source": [
    "ta.mod = \"paral\"  # or \"exponential\"\n",
    "path = \"p2\"\n",
    "\n",
    "ta.par = lmfit.Parameters()\n",
    "ta.par.add(\"k0\", value=1 / 300, vary=True)\n",
    "ta.par.add(\"k1\", value=1 / 150000, vary=True)\n",
    "ta.par.add(\"t0\", value=0, min=-1, max=1, vary=True)\n",
    "ta.par.add(\"resolution\", value=0.2, min=0, max=1, vary=False)\n",
    "# ta.par.add(\"infinite\")\n",
    "# ta.par.add(\"background\")\n",
    "\n",
    "ta.Fit_Global(fit_chirp=False)\n",
    "ta.Plot_fit_output(path=path)\n",
    "\n",
    "ta.Save_data(\n",
    "    save_RAW=False,\n",
    "    path=path,\n",
    "    filename=fn.replace(\".csv\", \"\") + \"_\" + path,\n",
    "    sep=\",\",\n",
    ")\n",
    "# ta.Save_Plots(\n",
    "#              path=os.getcwd()+\"/parallelST\",\n",
    "#              savetype=\"pdf\",\n",
    "#              filename=filename.replace(\".csv\", \"\") + \"_parallelST\",\n",
    "# )"
   ]
  },
  {
   "cell_type": "markdown",
   "metadata": {},
   "source": [
    "## Sequential Model\n"
   ]
  },
  {
   "cell_type": "code",
   "execution_count": null,
   "metadata": {},
   "outputs": [],
   "source": [
    "reload(mp)\n",
    "\n",
    "ta.mod = \"consecutive\"\n",
    "path = \"g2\"\n",
    "ta.par = lmfit.Parameters()\n",
    "ta.par.add(\"k0\", value=1 / 300, vary=True)\n",
    "ta.par.add(\"k1\", value=1 / 10000000, vary=True)\n",
    "ta.par.add(\"t0\", value=0, min=-1, max=1, vary=True)\n",
    "ta.par.add(\"resolution\", value=0.25, min=0, max=1, vary=False)\n",
    "# ta.par.add(\"infinite\")\n",
    "# ta.par.add(\"background\")\n",
    "\n",
    "ta.Fit_Global(fit_chirp=False, sub_sample=20)\n",
    "ta.Plot_fit_output(path=path)\n",
    "\n",
    "ta.Save_data(\n",
    "    save_RAW=False,\n",
    "    path=path,\n",
    "    filename=fn.replace(\".csv\", \"\") + \"_\" + path,\n",
    "    sep=\",\",\n",
    ")"
   ]
  },
  {
   "cell_type": "code",
   "execution_count": null,
   "metadata": {},
   "outputs": [],
   "source": [
    "# reload(mp)\n",
    "\n",
    "df_raw_kinetics = glob.glob(\"g2/*_measured_kinetics.dat\")\n",
    "# display(df_raw_kinetics)\n",
    "df_raw_kinetics = pd.read_csv(df_raw_kinetics[0], header=0, index_col=0, sep=\",\")\n",
    "# display(df_raw_kinetics)\n",
    "# mp.preview_1col_df(df_raw_kinetics)\n",
    "\n",
    "df_fit_kinetics = glob.glob(\"g2/*_fitted_kinetics.dat\")\n",
    "# display(df_fit_kinetics)\n",
    "df_fit_kinetics = pd.read_csv(df_fit_kinetics[0], header=0, index_col=0, sep=\",\")\n",
    "# display(df_fit_kinetics)\n",
    "# mp.preview_1col_df(df_fit_kinetics)\n",
    "\n",
    "list_df_raw_fit_kinetics = mf.combine_data_fit_kinetics(\n",
    "    df_raw_kinetics, df_fit_kinetics\n",
    ")\n",
    "# display(list_df_raw_fit_kinetics)\n",
    "\n",
    "mp.display_fsta_1colkinetics_fitted_symlog(\n",
    "    list_df_raw_fit_kinetics[:2],\n",
    "    xlimit=kinetics_t_limit,\n",
    "    ylimit=kinetics_od_limit,\n",
    "    legendposition=\"upper left\",\n",
    "    legendtitle=sample,\n",
    "    # showwn=True,\n",
    ")\n",
    "plt.show()"
   ]
  },
  {
   "cell_type": "code",
   "execution_count": null,
   "metadata": {},
   "outputs": [],
   "source": [
    "# reload(mp)\n",
    "\n",
    "df_eads = ta.re[\"DAC\"]\n",
    "# mp.preview_1coldf(df_eads)\n",
    "tau1 = mf.formalize_fsta_delaytime(ta.re[\"fit_results_times\"].iloc[0, 0])\n",
    "tau2 = mf.formalize_fsta_delaytime(ta.re[\"fit_results_times\"].iloc[1, 0])\n",
    "# display(tau1, tau2)\n",
    "\n",
    "fig_eads = mp.display_fsta_globalfit_spectra_be3cm1_tnm(\n",
    "    df_fstas_wl=df_eads,\n",
    "    xlimit=e3cm1_limit,\n",
    "    legendtitle=sample,\n",
    "    legendtext=[\n",
    "        f\"A, k\\u2081\\u207b\\u00b9 : {tau1}\",\n",
    "        f\"B, k\\u2082\\u207b\\u00b9 : {tau2}\",\n",
    "    ],\n",
    ")\n",
    "plt.show()"
   ]
  },
  {
   "cell_type": "code",
   "execution_count": null,
   "metadata": {},
   "outputs": [],
   "source": [
    "# reload(mp)\n",
    "\n",
    "df_c = ta.re[\"c\"]\n",
    "# mp.preview_1coldf(df_c)\n",
    "\n",
    "fig_c = mp.display_fsta_globalfit_concentration_symlog(\n",
    "    df_1col=df_c,\n",
    "    xlimit=kinetics_t_limit,\n",
    "    legendtitle=sample,\n",
    "    legendtext=[\"A\", \"B\"],\n",
    ")\n",
    "plt.show()"
   ]
  },
  {
   "cell_type": "markdown",
   "metadata": {},
   "source": [
    "## Target Model\n"
   ]
  },
  {
   "cell_type": "code",
   "execution_count": null,
   "metadata": {},
   "outputs": [],
   "source": [
    "ta.mod = mm.targetST\n",
    "path = \"t2\"\n",
    "# k0: s1 decay\n",
    "# k1: ISC\n",
    "# k2: t1 decay\n",
    "ta.par = lmfit.Parameters()\n",
    "ta.par.add(\"k0\", value=1 / 4600, vary=True)\n",
    "ta.par.add(\"k1\", value=1 / 8, vary=True)\n",
    "ta.par.add(\"k2\", value=1 / 4600, vary=True)\n",
    "ta.par.add(\"t0\", value=0, min=-1, max=1, vary=True)\n",
    "ta.par.add(\"resolution\", value=0.20, min=0, max=1, vary=True)\n",
    "ta.Fit_Global(fit_chirp=False, sub_sample=10)\n",
    "ta.Plot_fit_output(path=path)\n",
    "\n",
    "ta.Save_data(\n",
    "    save_RAW=False,\n",
    "    path=path,\n",
    "    filename=fn.replace(\".csv\", \"\") + \"_\" + path,\n",
    "    sep=\",\",\n",
    ")"
   ]
  }
 ],
 "metadata": {
  "kernelspec": {
   "display_name": "Python 3",
   "language": "python",
   "name": "python3"
  },
  "language_info": {
   "codemirror_mode": {
    "name": "ipython",
    "version": 3
   },
   "file_extension": ".py",
   "mimetype": "text/x-python",
   "name": "python",
   "nbconvert_exporter": "python",
   "pygments_lexer": "ipython3",
   "version": "3.11.2"
  },
  "orig_nbformat": 4
 },
 "nbformat": 4,
 "nbformat_minor": 2
}
